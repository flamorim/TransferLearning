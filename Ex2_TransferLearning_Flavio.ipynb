{
  "nbformat": 4,
  "nbformat_minor": 0,
  "metadata": {
    "anaconda-cloud": {},
    "kernelspec": {
      "display_name": "Python [default]",
      "language": "python",
      "name": "python3"
    },
    "language_info": {
      "codemirror_mode": {
        "name": "ipython",
        "version": 3
      },
      "file_extension": ".py",
      "mimetype": "text/x-python",
      "name": "python",
      "nbconvert_exporter": "python",
      "pygments_lexer": "ipython3",
      "version": "3.5.2"
    },
    "colab": {
      "name": "Ex2-TransferLearning-Flavio.ipynb",
      "provenance": [],
      "collapsed_sections": []
    },
    "accelerator": "GPU"
  },
  "cells": [
    {
      "cell_type": "markdown",
      "metadata": {
        "id": "tz4rWjKKiE5y"
      },
      "source": [
        "## Transfer Learning\n",
        "\n",
        "Na prática, treinar uma rede convolutiva a partir do zero (com inicialização aleatória), é relativamente raro (conjunto de dados de tamanho suficiente)\n",
        "\n",
        "\n",
        "\n",
        "Modelos para classificação de imagens com pesos treinados em ImageNet (disponível em Keras)\n",
        "    * Xception\n",
        "    * VGG16\n",
        "    * VGG19\n",
        "    * ResNet50 \n",
        "    * InceptionV3\n",
        "    * InceptionResNetV2\n",
        "    * MobileNet \n",
        "    * DenseNet\n",
        "    * NASNet\n",
        "https://keras.io/applications/    "
      ]
    },
    {
      "cell_type": "code",
      "metadata": {
        "id": "2chE0Eh4zehh",
        "colab": {
          "base_uri": "https://localhost:8080/"
        },
        "outputId": "6b2bb3f2-65be-404d-ede5-a6aeefa7b3ed"
      },
      "source": [
        "from google.colab import drive\n",
        "drive.mount('/content/drive')\n",
        "import os\n",
        "workdir_path = '/content/drive/My Drive/BI-Temp' #MODIFICAR!!! #Caminho para o seu workspace\n",
        "os.chdir(workdir_path)"
      ],
      "execution_count": 1,
      "outputs": [
        {
          "output_type": "stream",
          "name": "stdout",
          "text": [
            "Mounted at /content/drive\n"
          ]
        }
      ]
    },
    {
      "cell_type": "code",
      "metadata": {
        "id": "GpTeRd4BiE5z",
        "colab": {
          "base_uri": "https://localhost:8080/"
        },
        "outputId": "f301840d-44f7-4dce-81ea-084d2e5816a0"
      },
      "source": [
        "!pip install keras_tqdm\n",
        "from keras.models import Sequential, Model,load_model\n",
        "from keras.layers.core import Flatten, Dense, Dropout\n",
        "from keras.layers.convolutional import Conv2D, MaxPooling2D, ZeroPadding2D\n",
        "from tensorflow.keras.optimizers import SGD\n",
        "import numpy as np\n",
        "import keras\n",
        "from keras.applications.vgg16 import VGG16\n",
        "from PIL import Image\n",
        "from keras.preprocessing.image import array_to_img, img_to_array, load_img\n",
        "from keras.applications.vgg16 import preprocess_input\n",
        "from keras import losses\n",
        "from tensorflow.keras.optimizers import RMSprop\n",
        "from keras_tqdm import TQDMNotebookCallback\n",
        "from random import randint\n",
        "import matplotlib.pylab as plt"
      ],
      "execution_count": 2,
      "outputs": [
        {
          "output_type": "stream",
          "name": "stdout",
          "text": [
            "Collecting keras_tqdm\n",
            "  Downloading keras_tqdm-2.0.1-py2.py3-none-any.whl (7.1 kB)\n",
            "Requirement already satisfied: tqdm in /usr/local/lib/python3.7/dist-packages (from keras_tqdm) (4.62.3)\n",
            "Requirement already satisfied: Keras in /usr/local/lib/python3.7/dist-packages (from keras_tqdm) (2.7.0)\n",
            "Installing collected packages: keras-tqdm\n",
            "Successfully installed keras-tqdm-2.0.1\n"
          ]
        }
      ]
    },
    {
      "cell_type": "markdown",
      "metadata": {
        "id": "-0VOTlYuiE55"
      },
      "source": [
        "## Definir uma rede VGG16  (Oxford-2014) \n",
        "\n",
        "http://www.robots.ox.ac.uk/~vgg/research/very_deep/\n",
        "\n",
        "Os vencedores do ILSVRC 2014\n",
        "\n",
        "http://www.image-net.org/challenges/LSVRC/\n",
        "\n",
        "\n",
        "O conjunto de dados inclui imagens de 1000 classes e é dividido em três conjuntos (rótulada): \n",
        "    \n",
        "    * Treinamento (imagens 1.3M)\n",
        "    * Validação (imagens 50K)\n",
        "    * Testes (imagens de 100K).\n",
        "\n",
        "``` python\n",
        "def  VGG_16():\n",
        "    model = Sequential()\n",
        "    model.add(Conv2D(64,kernel_size=(3,3),input_shape=(224,224,3),activation='relu',padding='same'))\n",
        "    model.add(Conv2D(64,kernel_size=(3,3), activation='relu',padding='same'))\n",
        "    model.add(MaxPooling2D((2,2),strides=(2,2)))\n",
        "    model.add(Conv2D(128,kernel_size=(3,3), activation='relu',padding='same'))\n",
        "    model.add(Conv2D(128,kernel_size=(3,3), activation='relu',padding='same'))  \n",
        "    model.add(MaxPooling2D((2,2),strides=(2,2)))    \n",
        "    model.add(Conv2D(256,kernel_size=(3,3), activation='relu',padding='same'))\n",
        "    model.add(Conv2D(256,kernel_size=(3,3), activation='relu',padding='same'))  \n",
        "    model.add(Conv2D(256,kernel_size=(3,3), activation='relu',padding='same'))  \n",
        "    model.add(MaxPooling2D((2,2),strides=(2,2)))     \n",
        "    model.add(Conv2D(512,kernel_size=(3,3), activation='relu',padding='same'))\n",
        "    model.add(Conv2D(512,kernel_size=(3,3), activation='relu',padding='same'))  \n",
        "    model.add(Conv2D(512,kernel_size=(3,3), activation='relu',padding='same'))  \n",
        "    model.add(MaxPooling2D((2,2),strides=(2,2)))      \n",
        "    model.add(Conv2D(512,kernel_size=(3,3), activation='relu',padding='same'))\n",
        "    model.add(Conv2D(512,kernel_size=(3,3), activation='relu',padding='same'))  \n",
        "    model.add(Conv2D(512,kernel_size=(3,3), activation='relu',padding='same'))  \n",
        "    model.add(MaxPooling2D((2,2),strides=(2,2)))\n",
        "    model.add(Flatten())\n",
        "    # Camada superior\n",
        "    model.add(Dense(4096,activation='relu'))\n",
        "    model.add(Dense(4096,activation='relu'))\n",
        "    model.add(Dense(1000,activation='softmax'))\n",
        "    return model\n",
        "```"
      ]
    },
    {
      "cell_type": "markdown",
      "metadata": {
        "id": "XnYpa2ZyiE56"
      },
      "source": [
        "## Carregando a rede VGG16 com os pesos treinados"
      ]
    },
    {
      "cell_type": "code",
      "metadata": {
        "id": "VtNrxdjviE57",
        "colab": {
          "base_uri": "https://localhost:8080/"
        },
        "outputId": "b02a463c-d246-4f1d-9c5d-05124160a968"
      },
      "source": [
        "model_vgg16= VGG16(weights=\"imagenet\", include_top=True)\n",
        "# weights: carrega com os pesos já calculados, isto é, rede já treinada\n",
        "# top é a fullt connected\n",
        "model_vgg16.summary()\n",
        "#output Nome: ainda nao recebeu nenhuma imaggem\n",
        "# a saída é 1000, pois é a quantidade de classes da rede"
      ],
      "execution_count": 3,
      "outputs": [
        {
          "output_type": "stream",
          "name": "stdout",
          "text": [
            "Downloading data from https://storage.googleapis.com/tensorflow/keras-applications/vgg16/vgg16_weights_tf_dim_ordering_tf_kernels.h5\n",
            "553467904/553467096 [==============================] - 6s 0us/step\n",
            "553476096/553467096 [==============================] - 6s 0us/step\n",
            "Model: \"vgg16\"\n",
            "_________________________________________________________________\n",
            " Layer (type)                Output Shape              Param #   \n",
            "=================================================================\n",
            " input_1 (InputLayer)        [(None, 224, 224, 3)]     0         \n",
            "                                                                 \n",
            " block1_conv1 (Conv2D)       (None, 224, 224, 64)      1792      \n",
            "                                                                 \n",
            " block1_conv2 (Conv2D)       (None, 224, 224, 64)      36928     \n",
            "                                                                 \n",
            " block1_pool (MaxPooling2D)  (None, 112, 112, 64)      0         \n",
            "                                                                 \n",
            " block2_conv1 (Conv2D)       (None, 112, 112, 128)     73856     \n",
            "                                                                 \n",
            " block2_conv2 (Conv2D)       (None, 112, 112, 128)     147584    \n",
            "                                                                 \n",
            " block2_pool (MaxPooling2D)  (None, 56, 56, 128)       0         \n",
            "                                                                 \n",
            " block3_conv1 (Conv2D)       (None, 56, 56, 256)       295168    \n",
            "                                                                 \n",
            " block3_conv2 (Conv2D)       (None, 56, 56, 256)       590080    \n",
            "                                                                 \n",
            " block3_conv3 (Conv2D)       (None, 56, 56, 256)       590080    \n",
            "                                                                 \n",
            " block3_pool (MaxPooling2D)  (None, 28, 28, 256)       0         \n",
            "                                                                 \n",
            " block4_conv1 (Conv2D)       (None, 28, 28, 512)       1180160   \n",
            "                                                                 \n",
            " block4_conv2 (Conv2D)       (None, 28, 28, 512)       2359808   \n",
            "                                                                 \n",
            " block4_conv3 (Conv2D)       (None, 28, 28, 512)       2359808   \n",
            "                                                                 \n",
            " block4_pool (MaxPooling2D)  (None, 14, 14, 512)       0         \n",
            "                                                                 \n",
            " block5_conv1 (Conv2D)       (None, 14, 14, 512)       2359808   \n",
            "                                                                 \n",
            " block5_conv2 (Conv2D)       (None, 14, 14, 512)       2359808   \n",
            "                                                                 \n",
            " block5_conv3 (Conv2D)       (None, 14, 14, 512)       2359808   \n",
            "                                                                 \n",
            " block5_pool (MaxPooling2D)  (None, 7, 7, 512)         0         \n",
            "                                                                 \n",
            " flatten (Flatten)           (None, 25088)             0         \n",
            "                                                                 \n",
            " fc1 (Dense)                 (None, 4096)              102764544 \n",
            "                                                                 \n",
            " fc2 (Dense)                 (None, 4096)              16781312  \n",
            "                                                                 \n",
            " predictions (Dense)         (None, 1000)              4097000   \n",
            "                                                                 \n",
            "=================================================================\n",
            "Total params: 138,357,544\n",
            "Trainable params: 138,357,544\n",
            "Non-trainable params: 0\n",
            "_________________________________________________________________\n"
          ]
        }
      ]
    },
    {
      "cell_type": "code",
      "metadata": {
        "id": "q3KkvaWhiE5-",
        "colab": {
          "base_uri": "https://localhost:8080/"
        },
        "outputId": "02a73c26-fe9b-4826-bbc1-27f4131845e9"
      },
      "source": [
        "for i, layer in enumerate(model_vgg16.layers):\n",
        "    print(i , layer.name, layer.output_shape)"
      ],
      "execution_count": 4,
      "outputs": [
        {
          "output_type": "stream",
          "name": "stdout",
          "text": [
            "0 input_1 [(None, 224, 224, 3)]\n",
            "1 block1_conv1 (None, 224, 224, 64)\n",
            "2 block1_conv2 (None, 224, 224, 64)\n",
            "3 block1_pool (None, 112, 112, 64)\n",
            "4 block2_conv1 (None, 112, 112, 128)\n",
            "5 block2_conv2 (None, 112, 112, 128)\n",
            "6 block2_pool (None, 56, 56, 128)\n",
            "7 block3_conv1 (None, 56, 56, 256)\n",
            "8 block3_conv2 (None, 56, 56, 256)\n",
            "9 block3_conv3 (None, 56, 56, 256)\n",
            "10 block3_pool (None, 28, 28, 256)\n",
            "11 block4_conv1 (None, 28, 28, 512)\n",
            "12 block4_conv2 (None, 28, 28, 512)\n",
            "13 block4_conv3 (None, 28, 28, 512)\n",
            "14 block4_pool (None, 14, 14, 512)\n",
            "15 block5_conv1 (None, 14, 14, 512)\n",
            "16 block5_conv2 (None, 14, 14, 512)\n",
            "17 block5_conv3 (None, 14, 14, 512)\n",
            "18 block5_pool (None, 7, 7, 512)\n",
            "19 flatten (None, 25088)\n",
            "20 fc1 (None, 4096)\n",
            "21 fc2 (None, 4096)\n",
            "22 predictions (None, 1000)\n"
          ]
        }
      ]
    },
    {
      "cell_type": "markdown",
      "metadata": {
        "id": "SbHyDNhLiE6B"
      },
      "source": [
        "## Reconhecendo trens com a rede VGG16"
      ]
    },
    {
      "cell_type": "code",
      "metadata": {
        "id": "R4jmrayFiE6C",
        "colab": {
          "base_uri": "https://localhost:8080/",
          "height": 241
        },
        "outputId": "2c218817-2435-4cee-ffef-f8a2c785886d"
      },
      "source": [
        "# Carregando uma nova imagen\n",
        "imagem=load_img('paraquedas.jpg', target_size=(224,224,3));imagem"
      ],
      "execution_count": 5,
      "outputs": [
        {
          "output_type": "execute_result",
          "data": {
            "image/png": "[encoded data removed]",
            "text/plain": [
              "<PIL.Image.Image image mode=RGB size=224x224 at 0x7F4619F57850>"
            ]
          },
          "metadata": {},
          "execution_count": 5
        }
      ]
    },
    {
      "cell_type": "code",
      "metadata": {
        "id": "IvWopOcYiE6F",
        "colab": {
          "base_uri": "https://localhost:8080/"
        },
        "outputId": "db03df42-3ac6-4015-a6a7-019f830d8c28"
      },
      "source": [
        "# Transformando a imagem para um tipo array\n",
        "img_array=img_to_array(imagem).astype('float32')\n",
        "img_array=img_array.reshape((1,224,224,3));img_array.shape"
      ],
      "execution_count": 6,
      "outputs": [
        {
          "output_type": "execute_result",
          "data": {
            "text/plain": [
              "(1, 224, 224, 3)"
            ]
          },
          "metadata": {},
          "execution_count": 6
        }
      ]
    },
    {
      "cell_type": "code",
      "metadata": {
        "scrolled": true,
        "id": "-qHGRkfaiE6I",
        "colab": {
          "base_uri": "https://localhost:8080/"
        },
        "outputId": "3d0c27e9-51cf-41a1-ad69-5448ff0ae1b8"
      },
      "source": [
        "# Evaluando o modelo VGG16\n",
        "# a rede ja estava treinada \n",
        "#otimizer=SGD(lr=0.1,decay=1e-6,momentum=0.9,nesterov=True)\n",
        "#model_vgg16.compile(optimizer=otimizer,loss='categorical_crossentropy')\n",
        "saida=model_vgg16.predict(img_array)\n",
        "print(\"Classe   : \",np.argmax(saida),\"\\nPrevisão :\",np.max(saida))"
      ],
      "execution_count": 7,
      "outputs": [
        {
          "output_type": "stream",
          "name": "stdout",
          "text": [
            "Classe   :  701 \n",
            "Previsão : 0.99396086\n"
          ]
        }
      ]
    },
    {
      "cell_type": "markdown",
      "metadata": {
        "id": "c3rkBZFIiE6M"
      },
      "source": [
        "classes:\n",
        "\n",
        "\n",
        "https://gist.github.com/yrevar/942d3a0ac09ec9e5eb3a"
      ]
    },
    {
      "cell_type": "markdown",
      "source": [
        "Jeito 1: vai pegar só as convulocionais"
      ],
      "metadata": {
        "id": "sGd_NiFYoF0-"
      }
    },
    {
      "cell_type": "markdown",
      "metadata": {
        "id": "n-M-pQy1iE6M"
      },
      "source": [
        "## Utilizar uma rede pre-treinada para extrair \"features\"\n",
        "\n",
        "Os modelos pre-treinados tem que aprender características (features) das imagens que são aprendidos para diferenciar uma imagem de uma classe de outra classe.\n",
        "\n",
        "    * Remover as camadas full conected do modelo pre-treinado.\n",
        "    * Rodar imagens do dataset na rede Truncada para obter \"features\" do dataset\n",
        "    * Utilizar os \"features\" como entrada em outra rede \"full conected\"."
      ]
    },
    {
      "cell_type": "markdown",
      "metadata": {
        "id": "E_7FVXc7iE6Q"
      },
      "source": [
        "# Extraindo \"features\""
      ]
    },
    {
      "cell_type": "code",
      "metadata": {
        "id": "D-AhzXfYiE6Q",
        "colab": {
          "base_uri": "https://localhost:8080/"
        },
        "outputId": "228c7c5e-b75c-40bd-bef1-88d6f62ab930"
      },
      "source": [
        "# jeito 1, só vai pega a pre=treinada\n",
        "# Truncar a rede VGG16\n",
        "model=Model(inputs=model_vgg16.input,outputs=model_vgg16.get_layer('block5_pool').output)\n",
        "model.summary()\n",
        "\n",
        "# o tamanho daa saída é (None, 7, 7, 512)\n"
      ],
      "execution_count": 8,
      "outputs": [
        {
          "output_type": "stream",
          "name": "stdout",
          "text": [
            "Model: \"model\"\n",
            "_________________________________________________________________\n",
            " Layer (type)                Output Shape              Param #   \n",
            "=================================================================\n",
            " input_1 (InputLayer)        [(None, 224, 224, 3)]     0         \n",
            "                                                                 \n",
            " block1_conv1 (Conv2D)       (None, 224, 224, 64)      1792      \n",
            "                                                                 \n",
            " block1_conv2 (Conv2D)       (None, 224, 224, 64)      36928     \n",
            "                                                                 \n",
            " block1_pool (MaxPooling2D)  (None, 112, 112, 64)      0         \n",
            "                                                                 \n",
            " block2_conv1 (Conv2D)       (None, 112, 112, 128)     73856     \n",
            "                                                                 \n",
            " block2_conv2 (Conv2D)       (None, 112, 112, 128)     147584    \n",
            "                                                                 \n",
            " block2_pool (MaxPooling2D)  (None, 56, 56, 128)       0         \n",
            "                                                                 \n",
            " block3_conv1 (Conv2D)       (None, 56, 56, 256)       295168    \n",
            "                                                                 \n",
            " block3_conv2 (Conv2D)       (None, 56, 56, 256)       590080    \n",
            "                                                                 \n",
            " block3_conv3 (Conv2D)       (None, 56, 56, 256)       590080    \n",
            "                                                                 \n",
            " block3_pool (MaxPooling2D)  (None, 28, 28, 256)       0         \n",
            "                                                                 \n",
            " block4_conv1 (Conv2D)       (None, 28, 28, 512)       1180160   \n",
            "                                                                 \n",
            " block4_conv2 (Conv2D)       (None, 28, 28, 512)       2359808   \n",
            "                                                                 \n",
            " block4_conv3 (Conv2D)       (None, 28, 28, 512)       2359808   \n",
            "                                                                 \n",
            " block4_pool (MaxPooling2D)  (None, 14, 14, 512)       0         \n",
            "                                                                 \n",
            " block5_conv1 (Conv2D)       (None, 14, 14, 512)       2359808   \n",
            "                                                                 \n",
            " block5_conv2 (Conv2D)       (None, 14, 14, 512)       2359808   \n",
            "                                                                 \n",
            " block5_conv3 (Conv2D)       (None, 14, 14, 512)       2359808   \n",
            "                                                                 \n",
            " block5_pool (MaxPooling2D)  (None, 7, 7, 512)         0         \n",
            "                                                                 \n",
            "=================================================================\n",
            "Total params: 14,714,688\n",
            "Trainable params: 14,714,688\n",
            "Non-trainable params: 0\n",
            "_________________________________________________________________\n"
          ]
        }
      ]
    },
    {
      "cell_type": "code",
      "metadata": {
        "id": "4u1efzVbiE6T",
        "colab": {
          "base_uri": "https://localhost:8080/",
          "height": 241
        },
        "outputId": "0fee32fb-94c6-41a7-f2c2-91730573259f"
      },
      "source": [
        "# Carregando uma nova imagen\n",
        "imagem=load_img('yalefaces/subject1/subject01.normal.jpg', target_size=(224,224,3));imagem\n",
        "#imagem=load_img('subject01.normal.jpg', target_size=(224,224,3));imagem"
      ],
      "execution_count": 9,
      "outputs": [
        {
          "output_type": "execute_result",
          "data": {
            "image/png": "[encoded data removed]",
            "text/plain": [
              "<PIL.Image.Image image mode=RGB size=224x224 at 0x7F45A003E6D0>"
            ]
          },
          "metadata": {},
          "execution_count": 9
        }
      ]
    },
    {
      "cell_type": "code",
      "metadata": {
        "id": "Hs_0RILCiE6W"
      },
      "source": [
        "# Transformando a imagem para um tipo array\n",
        "img_array=img_to_array(imagem).astype('float32')\n",
        "img_array=img_array.reshape((1,224,224,3))\n",
        "x=preprocess_input(img_array)"
      ],
      "execution_count": 10,
      "outputs": []
    },
    {
      "cell_type": "code",
      "metadata": {
        "id": "L1PZQDYviE6Z",
        "colab": {
          "base_uri": "https://localhost:8080/"
        },
        "outputId": "936ba729-899f-4d6d-e202-d22e9db88e74"
      },
      "source": [
        "# Obter Caracteristicas de um dado\n",
        "features=model.predict(x);features.shape\n",
        "# conferir que é o shape da saída do modelo, que é \n",
        "#block5_pool (MaxPooling2D)  (None, 7, 7, 512)"
      ],
      "execution_count": 11,
      "outputs": [
        {
          "output_type": "execute_result",
          "data": {
            "text/plain": [
              "(1, 7, 7, 512)"
            ]
          },
          "metadata": {},
          "execution_count": 11
        }
      ]
    },
    {
      "cell_type": "code",
      "metadata": {
        "id": "RpBoPJWwiE6c"
      },
      "source": [
        "# Utilizar data augmentation keras para gerar dados de treinamento y de validação\n",
        "from dataset_utils import  GetDataTest, PlotHistory"
      ],
      "execution_count": 12,
      "outputs": []
    },
    {
      "cell_type": "code",
      "source": [
        "from keras.preprocessing.image import ImageDataGenerator\n",
        "from sklearn.model_selection import train_test_split\n",
        "\n",
        "def GetRawDataGenerators(chunk=1):\n",
        "\n",
        "    datagen = ImageDataGenerator()\n",
        "    num_data = len(datagen.flow_from_directory('yalefaces',\n",
        "                                               batch_size=1).classes)\n",
        "\n",
        "    generator = datagen.flow_from_directory('yalefaces', \n",
        "                                            target_size=(224, 224), \n",
        "                                            batch_size=num_data, \n",
        "                                            shuffle=False)\n",
        "\n",
        "    X , y = generator.next()\n",
        "    print(\"X\", X.shape)\n",
        "    print(\"y\", y.shape)\n",
        "\n",
        "    X_train, X_test, y_train, y_test = train_test_split(X, y, \n",
        "                                                        test_size=0.2, \n",
        "                                                        random_state=42)\n",
        "    \n",
        "    len_train = len(X_train)//chunk\n",
        "    len_test = len(X_test)//chunk\n",
        "    \n",
        "    \n",
        "    train_datagen = ImageDataGenerator(rescale=1./255, \n",
        "                                   shear_range=0.2, \n",
        "                                   zoom_range=0.2, \n",
        "                                   horizontal_flip=True)\n",
        "\n",
        "    valid_datagen = ImageDataGenerator(rescale=1./255)\n",
        "\n",
        "    train_generator = train_datagen.flow(X_train, y_train, \n",
        "                                         batch_size=len_train, \n",
        "                                         shuffle=False)\n",
        "\n",
        "    valid_generator = valid_datagen.flow(X_test, y_test, \n",
        "                                         batch_size=len_test, \n",
        "                                         shuffle=False)\n",
        "    \n",
        "    return train_generator , valid_generator"
      ],
      "metadata": {
        "id": "g0Mxgs9oDJAG"
      },
      "execution_count": 13,
      "outputs": []
    },
    {
      "cell_type": "code",
      "metadata": {
        "id": "gkJwmciKiE6f",
        "colab": {
          "base_uri": "https://localhost:8080/"
        },
        "outputId": "7c48128c-64e0-4b48-f753-42921ba7a57f"
      },
      "source": [
        "chunk=2\n",
        "train_generator , valid_generator = GetRawDataGenerators(chunk)"
      ],
      "execution_count": 14,
      "outputs": [
        {
          "output_type": "stream",
          "name": "stdout",
          "text": [
            "Found 166 images belonging to 15 classes.\n",
            "Found 166 images belonging to 15 classes.\n",
            "X (166, 224, 224, 3)\n",
            "y (166, 15)\n"
          ]
        }
      ]
    },
    {
      "cell_type": "markdown",
      "metadata": {
        "collapsed": true,
        "id": "zgXrMBNNiE6i"
      },
      "source": [
        "# Obter Caracteristicas de um dataset (desafio)"
      ]
    },
    {
      "cell_type": "code",
      "metadata": {
        "id": "BslRbpsMiE6i",
        "colab": {
          "base_uri": "https://localhost:8080/"
        },
        "outputId": "c22a1fc4-160e-4052-f21a-e7e78b03ec61"
      },
      "source": [
        "#criou os features das fotos, falta treinar\n",
        "features_train = model.predict_generator(train_generator, steps=chunk)\n",
        "features_valid = model.predict_generator(valid_generator, steps=chunk)\n",
        "train_labels , valid_labels = train_generator.y , valid_generator.y"
      ],
      "execution_count": 15,
      "outputs": [
        {
          "output_type": "stream",
          "name": "stderr",
          "text": [
            "/usr/local/lib/python3.7/dist-packages/ipykernel_launcher.py:2: UserWarning: `Model.predict_generator` is deprecated and will be removed in a future version. Please use `Model.predict`, which supports generators.\n",
            "  \n",
            "/usr/local/lib/python3.7/dist-packages/ipykernel_launcher.py:3: UserWarning: `Model.predict_generator` is deprecated and will be removed in a future version. Please use `Model.predict`, which supports generators.\n",
            "  This is separate from the ipykernel package so we can avoid doing imports until\n"
          ]
        }
      ]
    },
    {
      "cell_type": "markdown",
      "metadata": {
        "id": "uiYmv9mXiE6l"
      },
      "source": [
        "## Implementação de uma rede \"full Conected\""
      ]
    },
    {
      "cell_type": "markdown",
      "source": [
        "o dataset original tinha 1000 classes que foram descartadas. O novo modelo está sendo criado com apenas as 15 classes. Se quisesse aproveitar as 1000 classes e acrescentar mais 15, deveria fazer o treinamento com algumas imagens do dataset original e a variável num_classes = 1015"
      ],
      "metadata": {
        "id": "0EE6gssg96xh"
      }
    },
    {
      "cell_type": "code",
      "metadata": {
        "id": "h1F4IHnSiE6m"
      },
      "source": [
        "nub_classes = 15\n",
        "lr = 0.0001\n",
        "momentum =0.9\n",
        "epochs = 50"
      ],
      "execution_count": 16,
      "outputs": []
    },
    {
      "cell_type": "code",
      "metadata": {
        "id": "9OpnkTKHiE6p",
        "colab": {
          "base_uri": "https://localhost:8080/"
        },
        "outputId": "0f4fb314-5fef-4046-f972-0b9a9fcc004f"
      },
      "source": [
        "model_fcb = Sequential()\n",
        "#criar uma full connected simples, com a rede aprendida e a saída\n",
        "model_fcb.add(Flatten(input_shape=features_train.data.shape[1:]))\n",
        "model_fcb.add(Dense(nub_classes, activation='softmax'))\n",
        "model_fcb.summary()"
      ],
      "execution_count": 17,
      "outputs": [
        {
          "output_type": "stream",
          "name": "stdout",
          "text": [
            "Model: \"sequential\"\n",
            "_________________________________________________________________\n",
            " Layer (type)                Output Shape              Param #   \n",
            "=================================================================\n",
            " flatten (Flatten)           (None, 25088)             0         \n",
            "                                                                 \n",
            " dense (Dense)               (None, 15)                376335    \n",
            "                                                                 \n",
            "=================================================================\n",
            "Total params: 376,335\n",
            "Trainable params: 376,335\n",
            "Non-trainable params: 0\n",
            "_________________________________________________________________\n"
          ]
        }
      ]
    },
    {
      "cell_type": "code",
      "metadata": {
        "id": "1KpLk-5ziE6s",
        "colab": {
          "base_uri": "https://localhost:8080/"
        },
        "outputId": "ede3276c-d360-42f5-d106-f51da18b4340"
      },
      "source": [
        "model_fcb.compile(loss=losses.categorical_crossentropy, optimizer=RMSprop(lr=lr), metrics=['accuracy'])\n",
        "history0 = model_fcb.fit(features_train, train_labels,batch_size=166,epochs=epochs, verbose=1,\\\n",
        "                    validation_data=(features_valid, valid_labels)) "
      ],
      "execution_count": 18,
      "outputs": [
        {
          "output_type": "stream",
          "name": "stderr",
          "text": [
            "/usr/local/lib/python3.7/dist-packages/keras/optimizer_v2/rmsprop.py:130: UserWarning: The `lr` argument is deprecated, use `learning_rate` instead.\n",
            "  super(RMSprop, self).__init__(name, **kwargs)\n"
          ]
        },
        {
          "output_type": "stream",
          "name": "stdout",
          "text": [
            "Epoch 1/50\n",
            "1/1 [==============================] - 1s 710ms/step - loss: 2.9291 - accuracy: 0.0606 - val_loss: 2.6434 - val_accuracy: 0.2059\n",
            "Epoch 2/50\n",
            "1/1 [==============================] - 0s 42ms/step - loss: 2.5478 - accuracy: 0.2197 - val_loss: 2.5489 - val_accuracy: 0.1765\n",
            "Epoch 3/50\n",
            "1/1 [==============================] - 0s 45ms/step - loss: 2.3407 - accuracy: 0.3712 - val_loss: 2.3577 - val_accuracy: 0.4412\n",
            "Epoch 4/50\n",
            "1/1 [==============================] - 0s 38ms/step - loss: 2.1687 - accuracy: 0.6061 - val_loss: 2.2633 - val_accuracy: 0.3529\n",
            "Epoch 5/50\n",
            "1/1 [==============================] - 0s 43ms/step - loss: 2.0276 - accuracy: 0.7576 - val_loss: 2.1512 - val_accuracy: 0.5882\n",
            "Epoch 6/50\n",
            "1/1 [==============================] - 0s 42ms/step - loss: 1.9062 - accuracy: 0.8333 - val_loss: 2.0656 - val_accuracy: 0.7059\n",
            "Epoch 7/50\n",
            "1/1 [==============================] - 0s 45ms/step - loss: 1.7964 - accuracy: 0.8712 - val_loss: 1.9765 - val_accuracy: 0.7647\n",
            "Epoch 8/50\n",
            "1/1 [==============================] - 0s 42ms/step - loss: 1.6957 - accuracy: 0.9167 - val_loss: 1.8986 - val_accuracy: 0.8235\n",
            "Epoch 9/50\n",
            "1/1 [==============================] - 0s 41ms/step - loss: 1.6025 - accuracy: 0.9242 - val_loss: 1.8216 - val_accuracy: 0.8235\n",
            "Epoch 10/50\n",
            "1/1 [==============================] - 0s 41ms/step - loss: 1.5159 - accuracy: 0.9470 - val_loss: 1.7512 - val_accuracy: 0.8529\n",
            "Epoch 11/50\n",
            "1/1 [==============================] - 0s 50ms/step - loss: 1.4349 - accuracy: 0.9545 - val_loss: 1.6827 - val_accuracy: 0.8529\n",
            "Epoch 12/50\n",
            "1/1 [==============================] - 0s 41ms/step - loss: 1.3591 - accuracy: 0.9697 - val_loss: 1.6191 - val_accuracy: 0.8529\n",
            "Epoch 13/50\n",
            "1/1 [==============================] - 0s 41ms/step - loss: 1.2880 - accuracy: 0.9773 - val_loss: 1.5572 - val_accuracy: 0.9118\n",
            "Epoch 14/50\n",
            "1/1 [==============================] - 0s 40ms/step - loss: 1.2211 - accuracy: 0.9848 - val_loss: 1.4996 - val_accuracy: 0.9118\n",
            "Epoch 15/50\n",
            "1/1 [==============================] - 0s 40ms/step - loss: 1.1580 - accuracy: 0.9924 - val_loss: 1.4434 - val_accuracy: 0.9118\n",
            "Epoch 16/50\n",
            "1/1 [==============================] - 0s 42ms/step - loss: 1.0985 - accuracy: 0.9924 - val_loss: 1.3912 - val_accuracy: 0.9118\n",
            "Epoch 17/50\n",
            "1/1 [==============================] - 0s 42ms/step - loss: 1.0424 - accuracy: 0.9924 - val_loss: 1.3398 - val_accuracy: 0.9118\n",
            "Epoch 18/50\n",
            "1/1 [==============================] - 0s 40ms/step - loss: 0.9894 - accuracy: 0.9924 - val_loss: 1.2928 - val_accuracy: 0.9412\n",
            "Epoch 19/50\n",
            "1/1 [==============================] - 0s 44ms/step - loss: 0.9392 - accuracy: 0.9924 - val_loss: 1.2454 - val_accuracy: 0.9412\n",
            "Epoch 20/50\n",
            "1/1 [==============================] - 0s 49ms/step - loss: 0.8918 - accuracy: 0.9924 - val_loss: 1.2036 - val_accuracy: 0.9412\n",
            "Epoch 21/50\n",
            "1/1 [==============================] - 0s 46ms/step - loss: 0.8469 - accuracy: 1.0000 - val_loss: 1.1589 - val_accuracy: 0.9412\n",
            "Epoch 22/50\n",
            "1/1 [==============================] - 0s 43ms/step - loss: 0.8045 - accuracy: 1.0000 - val_loss: 1.1232 - val_accuracy: 0.9412\n",
            "Epoch 23/50\n",
            "1/1 [==============================] - 0s 42ms/step - loss: 0.7643 - accuracy: 1.0000 - val_loss: 1.0794 - val_accuracy: 0.9412\n",
            "Epoch 24/50\n",
            "1/1 [==============================] - 0s 43ms/step - loss: 0.7265 - accuracy: 1.0000 - val_loss: 1.0515 - val_accuracy: 0.9706\n",
            "Epoch 25/50\n",
            "1/1 [==============================] - 0s 38ms/step - loss: 0.6908 - accuracy: 1.0000 - val_loss: 1.0068 - val_accuracy: 0.9412\n",
            "Epoch 26/50\n",
            "1/1 [==============================] - 0s 50ms/step - loss: 0.6573 - accuracy: 1.0000 - val_loss: 0.9862 - val_accuracy: 0.9412\n",
            "Epoch 27/50\n",
            "1/1 [==============================] - 0s 39ms/step - loss: 0.6255 - accuracy: 1.0000 - val_loss: 0.9427 - val_accuracy: 0.9412\n",
            "Epoch 28/50\n",
            "1/1 [==============================] - 0s 39ms/step - loss: 0.5960 - accuracy: 1.0000 - val_loss: 0.9255 - val_accuracy: 0.9412\n",
            "Epoch 29/50\n",
            "1/1 [==============================] - 0s 40ms/step - loss: 0.5682 - accuracy: 1.0000 - val_loss: 0.8919 - val_accuracy: 0.9412\n",
            "Epoch 30/50\n",
            "1/1 [==============================] - 0s 39ms/step - loss: 0.5420 - accuracy: 1.0000 - val_loss: 0.8614 - val_accuracy: 0.9706\n",
            "Epoch 31/50\n",
            "1/1 [==============================] - 0s 36ms/step - loss: 0.5166 - accuracy: 1.0000 - val_loss: 0.8503 - val_accuracy: 0.9412\n",
            "Epoch 32/50\n",
            "1/1 [==============================] - 0s 36ms/step - loss: 0.4920 - accuracy: 1.0000 - val_loss: 0.8035 - val_accuracy: 0.9706\n",
            "Epoch 33/50\n",
            "1/1 [==============================] - 0s 37ms/step - loss: 0.4682 - accuracy: 1.0000 - val_loss: 0.8009 - val_accuracy: 0.9412\n",
            "Epoch 34/50\n",
            "1/1 [==============================] - 0s 39ms/step - loss: 0.4454 - accuracy: 1.0000 - val_loss: 0.7555 - val_accuracy: 0.9706\n",
            "Epoch 35/50\n",
            "1/1 [==============================] - 0s 41ms/step - loss: 0.4243 - accuracy: 1.0000 - val_loss: 0.7523 - val_accuracy: 0.9706\n",
            "Epoch 36/50\n",
            "1/1 [==============================] - 0s 39ms/step - loss: 0.4042 - accuracy: 1.0000 - val_loss: 0.7149 - val_accuracy: 0.9706\n",
            "Epoch 37/50\n",
            "1/1 [==============================] - 0s 50ms/step - loss: 0.3852 - accuracy: 1.0000 - val_loss: 0.7062 - val_accuracy: 0.9706\n",
            "Epoch 38/50\n",
            "1/1 [==============================] - 0s 47ms/step - loss: 0.3671 - accuracy: 1.0000 - val_loss: 0.6789 - val_accuracy: 0.9706\n",
            "Epoch 39/50\n",
            "1/1 [==============================] - 0s 41ms/step - loss: 0.3500 - accuracy: 1.0000 - val_loss: 0.6645 - val_accuracy: 0.9706\n",
            "Epoch 40/50\n",
            "1/1 [==============================] - 0s 45ms/step - loss: 0.3339 - accuracy: 1.0000 - val_loss: 0.6459 - val_accuracy: 0.9706\n",
            "Epoch 41/50\n",
            "1/1 [==============================] - 0s 41ms/step - loss: 0.3187 - accuracy: 1.0000 - val_loss: 0.6275 - val_accuracy: 0.9706\n",
            "Epoch 42/50\n",
            "1/1 [==============================] - 0s 36ms/step - loss: 0.3041 - accuracy: 1.0000 - val_loss: 0.6130 - val_accuracy: 0.9706\n",
            "Epoch 43/50\n",
            "1/1 [==============================] - 0s 45ms/step - loss: 0.2903 - accuracy: 1.0000 - val_loss: 0.5947 - val_accuracy: 0.9706\n",
            "Epoch 44/50\n",
            "1/1 [==============================] - 0s 42ms/step - loss: 0.2769 - accuracy: 1.0000 - val_loss: 0.5801 - val_accuracy: 0.9706\n",
            "Epoch 45/50\n",
            "1/1 [==============================] - 0s 43ms/step - loss: 0.2643 - accuracy: 1.0000 - val_loss: 0.5644 - val_accuracy: 0.9706\n",
            "Epoch 46/50\n",
            "1/1 [==============================] - 0s 40ms/step - loss: 0.2523 - accuracy: 1.0000 - val_loss: 0.5502 - val_accuracy: 0.9706\n",
            "Epoch 47/50\n",
            "1/1 [==============================] - 0s 49ms/step - loss: 0.2409 - accuracy: 1.0000 - val_loss: 0.5360 - val_accuracy: 0.9706\n",
            "Epoch 48/50\n",
            "1/1 [==============================] - 0s 44ms/step - loss: 0.2301 - accuracy: 1.0000 - val_loss: 0.5230 - val_accuracy: 0.9706\n",
            "Epoch 49/50\n",
            "1/1 [==============================] - 0s 33ms/step - loss: 0.2198 - accuracy: 1.0000 - val_loss: 0.5093 - val_accuracy: 0.9706\n",
            "Epoch 50/50\n",
            "1/1 [==============================] - 0s 35ms/step - loss: 0.2100 - accuracy: 1.0000 - val_loss: 0.4979 - val_accuracy: 0.9706\n"
          ]
        }
      ]
    },
    {
      "cell_type": "code",
      "metadata": {
        "id": "asMVf8jRiE6v",
        "colab": {
          "base_uri": "https://localhost:8080/"
        },
        "outputId": "0b574046-0fcc-4f15-e3c8-d2277af27a74"
      },
      "source": [
        "score = model_fcb.evaluate(features_valid, valid_labels, verbose=0)\n",
        "print(\"\\nTest score:\", score[0])\n",
        "print('Test accuracy:', score[1])"
      ],
      "execution_count": 19,
      "outputs": [
        {
          "output_type": "stream",
          "name": "stdout",
          "text": [
            "\n",
            "Test score: 0.49792060256004333\n",
            "Test accuracy: 0.970588207244873\n"
          ]
        }
      ]
    },
    {
      "cell_type": "code",
      "metadata": {
        "id": "MdlCiJ6OiE6y",
        "colab": {
          "base_uri": "https://localhost:8080/",
          "height": 591
        },
        "outputId": "d2e74162-73dd-44ca-f092-432a862f7cff"
      },
      "source": [
        "PlotHistory(history0)"
      ],
      "execution_count": 20,
      "outputs": [
        {
          "output_type": "stream",
          "name": "stdout",
          "text": [
            "dict_keys(['loss', 'accuracy', 'val_loss', 'val_accuracy'])\n"
          ]
        },
        {
          "output_type": "display_data",
          "data": {
            "image/png": "[encoded data removed]",
            "text/plain": [
              "<Figure size 432x288 with 1 Axes>"
            ]
          },
          "metadata": {
            "needs_background": "light"
          }
        },
        {
          "output_type": "display_data",
          "data": {
            "image/png": "[encoded data removed]",
            "text/plain": [
              "<Figure size 432x288 with 1 Axes>"
            ]
          },
          "metadata": {
            "needs_background": "light"
          }
        }
      ]
    },
    {
      "cell_type": "code",
      "metadata": {
        "id": "cuJ2vgGeiE60",
        "colab": {
          "base_uri": "https://localhost:8080/"
        },
        "outputId": "c44d25d2-0258-4a6d-afe5-9673d4110226"
      },
      "source": [
        "model_fc = Sequential()\n",
        "model_fc.add(Flatten(input_shape=features_train.data.shape[1:]))\n",
        "model_fc.add(Dense(512,activation='relu'))\n",
        "model_fc.add(Dropout(0.3))\n",
        "model_fc.add(Dense(256,activation='relu'))\n",
        "model_fc.add(Dropout(0.2))\n",
        "model_fc.add(Dense(nub_classes, activation='softmax'))\n",
        "model_fc.summary()"
      ],
      "execution_count": 22,
      "outputs": [
        {
          "output_type": "stream",
          "name": "stdout",
          "text": [
            "Model: \"sequential_2\"\n",
            "_________________________________________________________________\n",
            " Layer (type)                Output Shape              Param #   \n",
            "=================================================================\n",
            " flatten_2 (Flatten)         (None, 25088)             0         \n",
            "                                                                 \n",
            " dense_4 (Dense)             (None, 512)               12845568  \n",
            "                                                                 \n",
            " dropout_2 (Dropout)         (None, 512)               0         \n",
            "                                                                 \n",
            " dense_5 (Dense)             (None, 256)               131328    \n",
            "                                                                 \n",
            " dropout_3 (Dropout)         (None, 256)               0         \n",
            "                                                                 \n",
            " dense_6 (Dense)             (None, 15)                3855      \n",
            "                                                                 \n",
            "=================================================================\n",
            "Total params: 12,980,751\n",
            "Trainable params: 12,980,751\n",
            "Non-trainable params: 0\n",
            "_________________________________________________________________\n"
          ]
        }
      ]
    },
    {
      "cell_type": "code",
      "metadata": {
        "scrolled": true,
        "id": "JAWRgqzQiE63",
        "colab": {
          "base_uri": "https://localhost:8080/"
        },
        "outputId": "c0a73d35-151c-4114-f29f-01cdc799e382"
      },
      "source": [
        "model_fc.compile(loss=losses.categorical_crossentropy, optimizer=RMSprop(lr=lr), metrics=['accuracy'])\n",
        "\n",
        "history = model_fc.fit(features_train, train_labels,batch_size=166,epochs=epochs, verbose=1,\\\n",
        "                    validation_data=(features_valid, valid_labels)) "
      ],
      "execution_count": 23,
      "outputs": [
        {
          "output_type": "stream",
          "name": "stderr",
          "text": [
            "/usr/local/lib/python3.7/dist-packages/keras/optimizer_v2/rmsprop.py:130: UserWarning: The `lr` argument is deprecated, use `learning_rate` instead.\n",
            "  super(RMSprop, self).__init__(name, **kwargs)\n"
          ]
        },
        {
          "output_type": "stream",
          "name": "stdout",
          "text": [
            "Epoch 1/50\n",
            "1/1 [==============================] - 1s 838ms/step - loss: 2.9696 - accuracy: 0.0379 - val_loss: 2.8255 - val_accuracy: 0.0294\n",
            "Epoch 2/50\n",
            "1/1 [==============================] - 0s 59ms/step - loss: 2.7024 - accuracy: 0.1894 - val_loss: 2.6517 - val_accuracy: 0.2059\n",
            "Epoch 3/50\n",
            "1/1 [==============================] - 0s 58ms/step - loss: 2.4939 - accuracy: 0.2197 - val_loss: 2.0782 - val_accuracy: 0.4412\n",
            "Epoch 4/50\n",
            "1/1 [==============================] - 0s 56ms/step - loss: 2.2428 - accuracy: 0.3485 - val_loss: 2.2036 - val_accuracy: 0.2941\n",
            "Epoch 5/50\n",
            "1/1 [==============================] - 0s 57ms/step - loss: 1.9807 - accuracy: 0.3939 - val_loss: 1.6630 - val_accuracy: 0.6765\n",
            "Epoch 6/50\n",
            "1/1 [==============================] - 0s 56ms/step - loss: 1.6841 - accuracy: 0.5303 - val_loss: 1.6713 - val_accuracy: 0.5588\n",
            "Epoch 7/50\n",
            "1/1 [==============================] - 0s 57ms/step - loss: 1.4333 - accuracy: 0.6515 - val_loss: 1.4516 - val_accuracy: 0.7059\n",
            "Epoch 8/50\n",
            "1/1 [==============================] - 0s 69ms/step - loss: 1.3906 - accuracy: 0.5985 - val_loss: 1.4644 - val_accuracy: 0.6471\n",
            "Epoch 9/50\n",
            "1/1 [==============================] - 0s 58ms/step - loss: 1.2941 - accuracy: 0.6818 - val_loss: 1.0883 - val_accuracy: 0.9412\n",
            "Epoch 10/50\n",
            "1/1 [==============================] - 0s 57ms/step - loss: 1.0487 - accuracy: 0.8182 - val_loss: 1.1401 - val_accuracy: 0.8529\n",
            "Epoch 11/50\n",
            "1/1 [==============================] - 0s 57ms/step - loss: 0.9107 - accuracy: 0.8864 - val_loss: 0.8781 - val_accuracy: 0.9412\n",
            "Epoch 12/50\n",
            "1/1 [==============================] - 0s 57ms/step - loss: 0.8342 - accuracy: 0.9318 - val_loss: 0.8834 - val_accuracy: 0.9412\n",
            "Epoch 13/50\n",
            "1/1 [==============================] - 0s 57ms/step - loss: 0.7846 - accuracy: 0.8788 - val_loss: 0.7304 - val_accuracy: 0.9706\n",
            "Epoch 14/50\n",
            "1/1 [==============================] - 0s 67ms/step - loss: 0.6707 - accuracy: 0.9242 - val_loss: 0.7648 - val_accuracy: 0.9412\n",
            "Epoch 15/50\n",
            "1/1 [==============================] - 0s 69ms/step - loss: 0.5831 - accuracy: 0.9470 - val_loss: 0.6616 - val_accuracy: 0.9706\n",
            "Epoch 16/50\n",
            "1/1 [==============================] - 0s 63ms/step - loss: 0.5501 - accuracy: 0.9545 - val_loss: 0.6670 - val_accuracy: 0.9412\n",
            "Epoch 17/50\n",
            "1/1 [==============================] - 0s 55ms/step - loss: 0.5170 - accuracy: 0.9242 - val_loss: 0.5053 - val_accuracy: 1.0000\n",
            "Epoch 18/50\n",
            "1/1 [==============================] - 0s 58ms/step - loss: 0.5453 - accuracy: 0.9242 - val_loss: 0.5834 - val_accuracy: 0.9706\n",
            "Epoch 19/50\n",
            "1/1 [==============================] - 0s 58ms/step - loss: 0.4699 - accuracy: 0.9318 - val_loss: 0.4625 - val_accuracy: 0.9706\n",
            "Epoch 20/50\n",
            "1/1 [==============================] - 0s 58ms/step - loss: 0.4705 - accuracy: 0.9621 - val_loss: 0.5628 - val_accuracy: 0.9412\n",
            "Epoch 21/50\n",
            "1/1 [==============================] - 0s 61ms/step - loss: 0.4550 - accuracy: 0.9470 - val_loss: 0.4626 - val_accuracy: 0.9706\n",
            "Epoch 22/50\n",
            "1/1 [==============================] - 0s 58ms/step - loss: 0.4102 - accuracy: 0.9621 - val_loss: 0.5006 - val_accuracy: 0.9706\n",
            "Epoch 23/50\n",
            "1/1 [==============================] - 0s 55ms/step - loss: 0.3833 - accuracy: 0.9773 - val_loss: 0.3925 - val_accuracy: 0.9706\n",
            "Epoch 24/50\n",
            "1/1 [==============================] - 0s 67ms/step - loss: 0.3334 - accuracy: 0.9697 - val_loss: 0.3748 - val_accuracy: 1.0000\n",
            "Epoch 25/50\n",
            "1/1 [==============================] - 0s 61ms/step - loss: 0.2921 - accuracy: 1.0000 - val_loss: 0.3099 - val_accuracy: 1.0000\n",
            "Epoch 26/50\n",
            "1/1 [==============================] - 0s 58ms/step - loss: 0.2339 - accuracy: 1.0000 - val_loss: 0.3086 - val_accuracy: 1.0000\n",
            "Epoch 27/50\n",
            "1/1 [==============================] - 0s 56ms/step - loss: 0.2345 - accuracy: 1.0000 - val_loss: 0.2848 - val_accuracy: 1.0000\n",
            "Epoch 28/50\n",
            "1/1 [==============================] - 0s 59ms/step - loss: 0.1870 - accuracy: 1.0000 - val_loss: 0.2553 - val_accuracy: 1.0000\n",
            "Epoch 29/50\n",
            "1/1 [==============================] - 0s 61ms/step - loss: 0.1999 - accuracy: 1.0000 - val_loss: 0.2506 - val_accuracy: 1.0000\n",
            "Epoch 30/50\n",
            "1/1 [==============================] - 0s 56ms/step - loss: 0.1769 - accuracy: 0.9924 - val_loss: 0.2535 - val_accuracy: 1.0000\n",
            "Epoch 31/50\n",
            "1/1 [==============================] - 0s 65ms/step - loss: 0.1786 - accuracy: 1.0000 - val_loss: 0.2314 - val_accuracy: 1.0000\n",
            "Epoch 32/50\n",
            "1/1 [==============================] - 0s 57ms/step - loss: 0.1635 - accuracy: 0.9924 - val_loss: 0.2156 - val_accuracy: 1.0000\n",
            "Epoch 33/50\n",
            "1/1 [==============================] - 0s 59ms/step - loss: 0.1482 - accuracy: 1.0000 - val_loss: 0.2252 - val_accuracy: 1.0000\n",
            "Epoch 34/50\n",
            "1/1 [==============================] - 0s 60ms/step - loss: 0.1320 - accuracy: 1.0000 - val_loss: 0.1839 - val_accuracy: 1.0000\n",
            "Epoch 35/50\n",
            "1/1 [==============================] - 0s 63ms/step - loss: 0.1774 - accuracy: 1.0000 - val_loss: 0.2289 - val_accuracy: 1.0000\n",
            "Epoch 36/50\n",
            "1/1 [==============================] - 0s 59ms/step - loss: 0.1312 - accuracy: 1.0000 - val_loss: 0.1664 - val_accuracy: 1.0000\n",
            "Epoch 37/50\n",
            "1/1 [==============================] - 0s 57ms/step - loss: 0.1328 - accuracy: 0.9924 - val_loss: 0.1828 - val_accuracy: 1.0000\n",
            "Epoch 38/50\n",
            "1/1 [==============================] - 0s 59ms/step - loss: 0.1125 - accuracy: 1.0000 - val_loss: 0.1647 - val_accuracy: 1.0000\n",
            "Epoch 39/50\n",
            "1/1 [==============================] - 0s 61ms/step - loss: 0.0851 - accuracy: 1.0000 - val_loss: 0.1742 - val_accuracy: 1.0000\n",
            "Epoch 40/50\n",
            "1/1 [==============================] - 0s 59ms/step - loss: 0.1004 - accuracy: 1.0000 - val_loss: 0.1648 - val_accuracy: 1.0000\n",
            "Epoch 41/50\n",
            "1/1 [==============================] - 0s 63ms/step - loss: 0.0793 - accuracy: 1.0000 - val_loss: 0.1534 - val_accuracy: 1.0000\n",
            "Epoch 42/50\n",
            "1/1 [==============================] - 0s 62ms/step - loss: 0.0909 - accuracy: 1.0000 - val_loss: 0.1478 - val_accuracy: 1.0000\n",
            "Epoch 43/50\n",
            "1/1 [==============================] - 0s 56ms/step - loss: 0.1071 - accuracy: 1.0000 - val_loss: 0.1654 - val_accuracy: 1.0000\n",
            "Epoch 44/50\n",
            "1/1 [==============================] - 0s 58ms/step - loss: 0.0857 - accuracy: 1.0000 - val_loss: 0.1383 - val_accuracy: 1.0000\n",
            "Epoch 45/50\n",
            "1/1 [==============================] - 0s 55ms/step - loss: 0.0650 - accuracy: 1.0000 - val_loss: 0.1292 - val_accuracy: 1.0000\n",
            "Epoch 46/50\n",
            "1/1 [==============================] - 0s 60ms/step - loss: 0.0570 - accuracy: 1.0000 - val_loss: 0.1159 - val_accuracy: 1.0000\n",
            "Epoch 47/50\n",
            "1/1 [==============================] - 0s 72ms/step - loss: 0.0754 - accuracy: 1.0000 - val_loss: 0.1141 - val_accuracy: 1.0000\n",
            "Epoch 48/50\n",
            "1/1 [==============================] - 0s 57ms/step - loss: 0.0865 - accuracy: 1.0000 - val_loss: 0.1100 - val_accuracy: 1.0000\n",
            "Epoch 49/50\n",
            "1/1 [==============================] - 0s 53ms/step - loss: 0.0678 - accuracy: 1.0000 - val_loss: 0.1141 - val_accuracy: 1.0000\n",
            "Epoch 50/50\n",
            "1/1 [==============================] - 0s 59ms/step - loss: 0.0498 - accuracy: 1.0000 - val_loss: 0.1184 - val_accuracy: 1.0000\n"
          ]
        }
      ]
    },
    {
      "cell_type": "code",
      "metadata": {
        "id": "XU7Vfe66iE65",
        "colab": {
          "base_uri": "https://localhost:8080/"
        },
        "outputId": "666037c5-8efb-432f-f587-c1d8ad6b0ee3"
      },
      "source": [
        "score = model_fc.evaluate(features_valid, valid_labels, verbose=0)\n",
        "print(\"\\nTest score:\", score[0])\n",
        "print('Test accuracy:', score[1])"
      ],
      "execution_count": 24,
      "outputs": [
        {
          "output_type": "stream",
          "name": "stdout",
          "text": [
            "\n",
            "Test score: 0.11836978793144226\n",
            "Test accuracy: 1.0\n"
          ]
        }
      ]
    },
    {
      "cell_type": "code",
      "metadata": {
        "scrolled": true,
        "id": "z_i0eSj3iE68",
        "colab": {
          "base_uri": "https://localhost:8080/",
          "height": 591
        },
        "outputId": "436c3bfb-e937-48bf-f588-2990e2ed5bd5"
      },
      "source": [
        "PlotHistory(history)"
      ],
      "execution_count": 25,
      "outputs": [
        {
          "output_type": "stream",
          "name": "stdout",
          "text": [
            "dict_keys(['loss', 'accuracy', 'val_loss', 'val_accuracy'])\n"
          ]
        },
        {
          "output_type": "display_data",
          "data": {
            "image/png": "[encoded data removed]",
            "text/plain": [
              "<Figure size 432x288 with 1 Axes>"
            ]
          },
          "metadata": {
            "needs_background": "light"
          }
        },
        {
          "output_type": "display_data",
          "data": {
            "image/png": "[encoded data removed]",
            "text/plain": [
              "<Figure size 432x288 with 1 Axes>"
            ]
          },
          "metadata": {
            "needs_background": "light"
          }
        }
      ]
    },
    {
      "cell_type": "markdown",
      "metadata": {
        "id": "i2jsNyANiE7A"
      },
      "source": [
        "# Inferência"
      ]
    },
    {
      "cell_type": "code",
      "metadata": {
        "id": "kqvbbXvsiE7A",
        "colab": {
          "base_uri": "https://localhost:8080/"
        },
        "outputId": "3a8e3458-3730-4c4e-a715-4f8d2957e28b"
      },
      "source": [
        "X,y=GetDataTest()"
      ],
      "execution_count": 26,
      "outputs": [
        {
          "output_type": "stream",
          "name": "stdout",
          "text": [
            "Found 166 images belonging to 15 classes.\n"
          ]
        }
      ]
    },
    {
      "cell_type": "code",
      "metadata": {
        "id": "sRL75cOTiE7D"
      },
      "source": [
        "def eval_model(inp, correc_logit):\n",
        "    vect  = model.predict(inp[np.newaxis,:,:,:])\n",
        "    logit = model_fc.predict(vect)        # fazendo a predicao\n",
        "    cls = np.argmax(logit,1)[0]           # classe preditica\n",
        "    correc_cls = np.argmax(correc_logit)  # classe correta\n",
        "    print(\"previsão sujeito: \" + str(cls) )\n",
        "    print(\"correct sujeito: \" + str(correc_cls)) \n",
        "    plt.imshow(inp)\n",
        "    plt.axis(\"off\")\n",
        "    plt.show()"
      ],
      "execution_count": 27,
      "outputs": []
    },
    {
      "cell_type": "code",
      "metadata": {
        "id": "a46AyaStiE7H",
        "colab": {
          "base_uri": "https://localhost:8080/",
          "height": 283
        },
        "outputId": "ba87529f-084f-45d8-c031-f4d5f51f18ee"
      },
      "source": [
        "ind=randint(0,166)\n",
        "eval_model(X[ind], y[ind])"
      ],
      "execution_count": 41,
      "outputs": [
        {
          "output_type": "stream",
          "name": "stdout",
          "text": [
            "previsão sujeito: 2\n",
            "correct sujeito: 2\n"
          ]
        },
        {
          "output_type": "display_data",
          "data": {
            "image/png": "[encoded data removed]",
            "text/plain": [
              "<Figure size 432x288 with 1 Axes>"
            ]
          },
          "metadata": {
            "needs_background": "light"
          }
        }
      ]
    },
    {
      "cell_type": "markdown",
      "metadata": {
        "scrolled": true,
        "id": "zMEbA9NPiE7J"
      },
      "source": [
        "## Fine Tuning\n",
        "\n",
        "A diferença é que está também treinar algumas das últimas camadas convolutiva, e treinar a rede resultante com uma taxa de aprendizagem baixa."
      ]
    },
    {
      "cell_type": "markdown",
      "metadata": {
        "collapsed": true,
        "id": "_hWMmn43iE7K"
      },
      "source": [
        "## Outras redes CCN\n",
        "    AlexNet  (2012)\n",
        "    ZF Net (2013)\n",
        "    R-CNN (2013)\n",
        "    GoogLeNet (2015)\n",
        "    Microsoft ResNet (2015)\n",
        "    Fast R-CNN (2015)\n",
        "    Faster R-CNN (2015)\n",
        "\n",
        "https://adeshpande3.github.io/adeshpande3.github.io/The-9-Deep-Learning-Papers-You-Need-To-Know-About.html"
      ]
    },
    {
      "cell_type": "code",
      "metadata": {
        "id": "pcW1ExMqiE7K"
      },
      "source": [
        ""
      ],
      "execution_count": null,
      "outputs": []
    }
  ]
}